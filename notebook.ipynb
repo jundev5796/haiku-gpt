{
 "cells": [
  {
   "cell_type": "code",
   "execution_count": 48,
   "metadata": {},
   "outputs": [],
   "source": [
    "\n",
    "from langchain.chat_models import ChatOpenAI\n",
    "from langchain.prompts import ChatPromptTemplate\n",
    "from langchain.callbacks import StreamingStdOutCallbackHandler\n",
    "\n",
    "chat = ChatOpenAI(\n",
    "  temperature=0.1,\n",
    "  streaming=True,\n",
    "  callbacks=[\n",
    "    StreamingStdOutCallbackHandler(),\n",
    "  ],\n",
    ")"
   ]
  },
  {
   "cell_type": "code",
   "execution_count": 49,
   "metadata": {},
   "outputs": [],
   "source": [
    "haiku_create = ChatPromptTemplate.from_messages(\n",
    "  [\n",
    "    (\"system\", \"You are a machine that generates haiku about programming languages. After the haiku is finished leave a blank line on the next line\"),\n",
    "    (\"human\", \"{language}\")\n",
    "  ]\n",
    ")\n",
    "\n",
    "create_chain = haiku_create | chat"
   ]
  },
  {
   "cell_type": "code",
   "execution_count": 50,
   "metadata": {},
   "outputs": [],
   "source": [
    "haiku_explain = ChatPromptTemplate.from_messages(\n",
    "  [\n",
    "    (\"system\", \"Explain what the haiku is about.\"),\n",
    "    (\"human\", \"{haiku}\")\n",
    "  ]\n",
    ")\n",
    "\n",
    "explain_chain = haiku_explain | chat"
   ]
  },
  {
   "cell_type": "code",
   "execution_count": 51,
   "metadata": {},
   "outputs": [
    {
     "name": "stdout",
     "output_type": "stream",
     "text": [
      "Indentation rules,\n",
      "Pythonic beauty shines through,\n",
      "Code with elegance.\n",
      "\n",
      "---\n",
      "\n",
      "This haiku is about the beauty and elegance of writing code in Python. It highlights the importance of following indentation rules in Python programming to create code that is not only functional but also aesthetically pleasing. The haiku emphasizes the idea of coding with elegance and showcases the unique style and structure of Pythonic code."
     ]
    },
    {
     "data": {
      "text/plain": [
       "AIMessageChunk(content='This haiku is about the beauty and elegance of writing code in Python. It highlights the importance of following indentation rules in Python programming to create code that is not only functional but also aesthetically pleasing. The haiku emphasizes the idea of coding with elegance and showcases the unique style and structure of Pythonic code.')"
      ]
     },
     "execution_count": 51,
     "metadata": {},
     "output_type": "execute_result"
    }
   ],
   "source": [
    "final_chain = {\"haiku\": create_chain} | explain_chain\n",
    "\n",
    "final_chain.invoke(\n",
    "  {\n",
    "    \"language\": \"python\"\n",
    "  }\n",
    ")"
   ]
  }
 ],
 "metadata": {
  "kernelspec": {
   "display_name": "env",
   "language": "python",
   "name": "python3"
  },
  "language_info": {
   "codemirror_mode": {
    "name": "ipython",
    "version": 3
   },
   "file_extension": ".py",
   "mimetype": "text/x-python",
   "name": "python",
   "nbconvert_exporter": "python",
   "pygments_lexer": "ipython3",
   "version": "3.11.6"
  }
 },
 "nbformat": 4,
 "nbformat_minor": 2
}
